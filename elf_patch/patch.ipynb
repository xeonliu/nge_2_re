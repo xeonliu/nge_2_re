{
 "cells": [
  {
   "cell_type": "markdown",
   "metadata": {},
   "source": [
    "# Use Rizin to apply translation"
   ]
  },
  {
   "cell_type": "code",
   "execution_count": 1,
   "metadata": {},
   "outputs": [],
   "source": [
    "import json\n",
    "import subprocess\n",
    "eboot_translation_json = \"../translations/eboot.json\""
   ]
  },
  {
   "cell_type": "code",
   "execution_count": 2,
   "metadata": {},
   "outputs": [],
   "source": [
    "# extract the technical data from a string\n",
    "def extract_technical(technical) -> tuple[str,str,str]:\n",
    "    # elf:data:0x0025089C,ram:0x08A5489C,size:24\n",
    "    parts = technical.split(\",\")\n",
    "    elf_data = parts[0].split(\":\")[2]\n",
    "    ram_data = parts[1].split(\":\")[1]\n",
    "    size = parts[2].split(\":\")[1]\n",
    "\n",
    "    # print(\"elf_data:\", elf_data)\n",
    "    # print(\"ram_data:\", ram_data)\n",
    "    # print(\"size:\", size)\n",
    "    return (elf_data, ram_data, size)\n",
    "\n",
    "# technical = \"elf:data:0x0025089C,ram:0x08A5489C,size:24\"\n",
    "# extract_technical(technical)      "
   ]
  },
  {
   "cell_type": "code",
   "execution_count": 3,
   "metadata": {},
   "outputs": [],
   "source": [
    "def match_translation(translation : dict[str, str]):\n",
    "    elf_vmaddr,_,size = extract_technical(translation[\"technical\"])\n",
    "    original = translation[\"original\"]\n",
    "    trans = translation[\"translation\"]\n",
    "    return (elf_vmaddr, size, original, trans)"
   ]
  },
  {
   "cell_type": "code",
   "execution_count": null,
   "metadata": {},
   "outputs": [],
   "source": [
    "def write_to_rizin(vmaddr, size, bytes, filename):\n",
    "    "
   ]
  },
  {
   "cell_type": "code",
   "execution_count": 61,
   "metadata": {},
   "outputs": [],
   "source": [
    "with open(eboot_translation_json, 'r') as f:\n",
    "    eboot_translation_json = json.load(f)\n",
    "    unsorted_translations: list[dict] = eboot_translation_json[\"unsorted\"]\n",
    "    # print(unsorted_translations)\n",
    "    for elem in unsorted_translations:\n",
    "        vmaddr, size, orig , trans = match_translation(elem)\n",
    "        if(trans!=None):\n",
    "            subprocess.run([\"echo\",trans])\n",
    "            shift_jis_bytes = trans.encode('shift_jis',errors='ignore')\n",
    "            \n",
    "            \n",
    "        \n"
   ]
  }
 ],
 "metadata": {
  "kernelspec": {
   "display_name": "Python 3",
   "language": "python",
   "name": "python3"
  },
  "language_info": {
   "codemirror_mode": {
    "name": "ipython",
    "version": 3
   },
   "file_extension": ".py",
   "mimetype": "text/x-python",
   "name": "python",
   "nbconvert_exporter": "python",
   "pygments_lexer": "ipython3",
   "version": "3.11.8"
  }
 },
 "nbformat": 4,
 "nbformat_minor": 2
}
